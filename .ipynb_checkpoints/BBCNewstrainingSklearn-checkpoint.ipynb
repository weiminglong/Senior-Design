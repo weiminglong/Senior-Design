{
 "cells": [
  {
   "cell_type": "code",
   "execution_count": 1,
   "metadata": {},
   "outputs": [],
   "source": [
    "%matplotlib inline\n",
    "import numpy as np\n",
    "import matplotlib.pyplot as plt\n",
    "from sklearn.datasets import load_files\n",
    " \n",
    "DATA_DIR = \"./bbc/\""
   ]
  },
  {
   "cell_type": "code",
   "execution_count": 5,
   "metadata": {},
   "outputs": [
    {
     "name": "stdout",
     "output_type": "stream",
     "text": [
      "<class 'numpy.ndarray'>\n",
      "{'business': 510, 'entertainment': 386, 'politics': 417, 'sport': 511, 'tech': 401}\n"
     ]
    }
   ],
   "source": [
    "#load_files function which loads text files with categories as subfolder names\n",
    "data = load_files(DATA_DIR, encoding=\"utf-8\", decode_error=\"replace\")\n",
    "# calculate count of each category\n",
    "#categories = [\"money\", \"football\", \"politics\",\"sport\",\"tech\"]\n",
    "#print(data.target)\n",
    "print(type(data.target))\n",
    "#cat = np.array(categories, dtype = None, copy = True, order = None, subok = False, ndmin = 0)\n",
    "#print(cat)\n",
    "labels, counts = np.unique(data.target, return_counts=True)\n",
    "#labels, counts = np.unique(cat, return_counts=True)\n",
    "# convert data.target_names to np array for fancy indexing\n",
    "#categories = [\"money\", \"football\", \"politics\",\"sport\",\"tech\"]\n",
    "#print(categories)\n",
    "labels_str = np.array(data.target_names)[labels]\n",
    "#labels_str = np.array(categories)[labels]\n",
    "#print(dict(zip(labels_str, counts)))\n",
    "print(dict(zip(labels_str, counts)))\n"
   ]
  },
  {
   "cell_type": "code",
   "execution_count": 6,
   "metadata": {},
   "outputs": [
    {
     "name": "stdout",
     "output_type": "stream",
     "text": [
      "[3 2 0 2 0 2 0 4 0 3 4 2 2 4 1 4 4 2 3 0 0 2 0 3 1 0 1 4 1 0 0 0 2 4 0 1 1\n",
      " 2 1 3 2 0 4 3 3 1 3 3 4 3 1 3 3 4 3 0 2 4 3 0 2 2 3 0 2 4 4 4 2 3 1 4 3 1\n",
      " 1 1 0 0 4 2 2 3 0 1 2 0 2 2 1 0 1 4 0 2 1 3 3 0 4 2 2 0 3 2 3 2 3 4 4 4 4\n",
      " 1 2 2 2 3 3 0 0 0 0 2 4 1 1 2 4 1 0 0 0 2 1 3 1 1 1 2 3 3 0 3 3 1 4 2 1 3\n",
      " 0 4 2 3 0 4 2 0 1 4 4 0 3 0 2 0 3 3 4 3 4 4 4 0 0 1 1 4 1 0 1 4 3 4 1 1 2\n",
      " 0 3 2 3 0 4 1 1 4 3 1 4 3 0 3 1 2 2 0 3 3 3 1 1 0 2 0 1 3 3 4 1 3 4 1 3 2\n",
      " 4 4 2 1 2 3 4 1 1 3 2 0 2 1 4 2 0 3 3 3 0 4 2 4 4 0 4 3 1 4 4 3 3 0 0 4 0\n",
      " 1 0 0 4 3 2 3 0 1 0 4 4 1 4 0 1 2 0 2 1 0 2 0 1 2 4 4 1 3 3 3 2 0 2 4 2 0\n",
      " 2 0 3 3 4 4 2 3 4 3 0 1 3 0 0 1 3 1 4 4 1 4 3 3 1 0 2 0 1 0 4 0 3 4 1 3 4\n",
      " 3 3 1 3 0 0 4 3 3 1 0 1 3 1 4 0 0 2 0 4 0 4 4 0 2 1 3 1 0 3 1 1 4 0 1 4 0\n",
      " 1 2 1 2 4 0 2 4 0 3 4 0 4 3 3 0 0 3 4 1 0 2 3 4 3 4 3 2 0 3 3 2 0 3 4 0 3\n",
      " 3 2 0 0 3 4 0 1 4 0 2 4 2 3 0 2 2 3 2 0 4 1 1 3 0 1 0 4 0 4 1 1 0 3 0 0 0\n",
      " 0 4 0 0 3 0 4 2 3 4 4 3 4 4 1 1 0 2 0 2 2 2 4 3 1 3 3 4 1 4 3 4 0 0 2 4 0\n",
      " 1 3 2 2 4 4 2 0 3 4 0 1 1 2 1 0 2 3 2 2 2 1 4 1 0 4 2 3 3 3 0 3 4 4 4 1 3\n",
      " 3 4 4 2 2 4 3 2 1 2 0 0 0 0 3 0 1 2 2 4 1 2 3 3 3 0 2 3 2 2 3 0 2 1 3 2 0\n",
      " 0 0]\n"
     ]
    }
   ],
   "source": [
    "#split the data into training and testing set and then print out first 80 chars of some samples\n",
    "from sklearn.model_selection import train_test_split\n",
    "X_train, X_test, y_train, y_test = train_test_split(data.data, data.target)\n",
    "list(t[:80] for t in X_train[:10])\n",
    "\n",
    "#print(X_test)\n",
    "print(y_test)\n"
   ]
  },
  {
   "cell_type": "code",
   "execution_count": null,
   "metadata": {},
   "outputs": [],
   "source": [
    "#fit function to “train” the vectorizer and also convert the list of texts into TF-IDF matrix\n",
    "from sklearn.feature_extraction.text import TfidfVectorizer\n",
    "vectorizer = TfidfVectorizer(stop_words=\"english\", max_features=1000, decode_error=\"ignore\")\n",
    "print(vectorizer)\n",
    "vectorizer.fit(X_train)\n"
   ]
  },
  {
   "cell_type": "code",
   "execution_count": 8,
   "metadata": {},
   "outputs": [
    {
     "name": "stdout",
     "output_type": "stream",
     "text": [
      "0.9694793536804309\n",
      "              precision    recall  f1-score   support\n",
      "\n",
      "           0       0.95      0.98      0.97       129\n",
      "           1       0.96      0.95      0.95        95\n",
      "           2       0.98      0.96      0.97       100\n",
      "           3       0.99      0.99      0.99       121\n",
      "           4       0.96      0.96      0.96       112\n",
      "\n",
      "    accuracy                           0.97       557\n",
      "   macro avg       0.97      0.97      0.97       557\n",
      "weighted avg       0.97      0.97      0.97       557\n",
      "\n"
     ]
    }
   ],
   "source": [
    "##Model##\n",
    "#Naive bayes model first\n",
    "\n",
    "from sklearn.naive_bayes import MultinomialNB\n",
    "cls = MultinomialNB()\n",
    "# transform the list of text to tf-idf before passing it to the model\n",
    "cls.fit(vectorizer.transform(X_train), y_train)\n",
    " \n",
    "from sklearn.metrics import classification_report, accuracy_score\n",
    " \n",
    "y_pred = cls.predict(vectorizer.transform(X_test))\n",
    "print(accuracy_score(y_test, y_pred))\n",
    "print(classification_report(y_test, y_pred))"
   ]
  },
  {
   "cell_type": "code",
   "execution_count": 13,
   "metadata": {},
   "outputs": [],
   "source": [
    "##95 percent accuracy above, Now we want to improve that accuracy:\n"
   ]
  },
  {
   "cell_type": "code",
   "execution_count": 15,
   "metadata": {},
   "outputs": [
    {
     "name": "stdout",
     "output_type": "stream",
     "text": [
      "[('svc_tfidf', 0.9706284909173251), ('svc', 0.956835908015901), ('sgd_tfidf', 0.9562457318256644), ('sgd', 0.9508335070555168)]\n"
     ]
    }
   ],
   "source": [
    "#create four different pipelines using TF-IDF and CountVectorizer for vectorization and SGDClassifier and SVC (support vector classifier)\n",
    "from sklearn.linear_model import SGDClassifier\n",
    "from sklearn.svm import SVC\n",
    "from sklearn.pipeline import Pipeline\n",
    "from sklearn.feature_extraction.text import TfidfVectorizer, CountVectorizer\n",
    "from sklearn.model_selection import cross_val_score\n",
    " \n",
    "# start with the classic\n",
    "# with either pure counts or tfidf features\n",
    "sgd = Pipeline([\n",
    "        (\"count vectorizer\", CountVectorizer(stop_words=\"english\", max_features=3000)),\n",
    "        (\"sgd\", SGDClassifier(loss=\"modified_huber\"))\n",
    "    ])\n",
    "sgd_tfidf = Pipeline([\n",
    "        (\"tfidf_vectorizer\", TfidfVectorizer(stop_words=\"english\", max_features=3000)),\n",
    "        (\"sgd\", SGDClassifier(loss=\"modified_huber\"))\n",
    "    ])\n",
    " \n",
    "svc = Pipeline([\n",
    "        (\"count_vectorizer\", CountVectorizer(stop_words=\"english\", max_features=3000)),\n",
    "        (\"linear svc\", SVC(kernel=\"linear\"))\n",
    "    ])\n",
    "svc_tfidf = Pipeline([\n",
    "        (\"tfidf_vectorizer\", TfidfVectorizer(stop_words=\"english\", max_features=3000)),\n",
    "        (\"linear svc\", SVC(kernel=\"linear\"))\n",
    "    ])\n",
    "   \n",
    "all_models = [\n",
    "    (\"sgd\", sgd),\n",
    "    (\"sgd_tfidf\", sgd_tfidf),\n",
    "    (\"svc\", svc),\n",
    "    (\"svc_tfidf\", svc_tfidf),\n",
    "    ]\n",
    " \n",
    "unsorted_scores = [(name, cross_val_score(model, X_train, y_train, cv=2).mean()) for name, model in all_models]\n",
    "scores = sorted(unsorted_scores, key=lambda x: -x[1])\n",
    "print(scores)  "
   ]
  },
  {
   "cell_type": "code",
   "execution_count": 16,
   "metadata": {},
   "outputs": [
    {
     "name": "stdout",
     "output_type": "stream",
     "text": [
      "0.9802513464991023\n",
      "              precision    recall  f1-score   support\n",
      "\n",
      "           0       0.98      0.97      0.98       129\n",
      "           1       0.97      0.98      0.97        98\n",
      "           2       0.96      0.98      0.97        97\n",
      "           3       0.99      1.00      1.00       136\n",
      "           4       0.99      0.97      0.98        97\n",
      "\n",
      "    accuracy                           0.98       557\n",
      "   macro avg       0.98      0.98      0.98       557\n",
      "weighted avg       0.98      0.98      0.98       557\n",
      "\n"
     ]
    }
   ],
   "source": [
    "#train and reevaluate the dataset\n",
    "model = svc_tfidf\n",
    "model.fit(X_train, y_train)\n",
    "y_pred = model.predict(X_test)\n",
    "print(accuracy_score(y_test, y_pred))\n",
    "print(classification_report(y_test, y_pred))"
   ]
  },
  {
   "cell_type": "code",
   "execution_count": null,
   "metadata": {},
   "outputs": [],
   "source": []
  }
 ],
 "metadata": {
  "kernelspec": {
   "display_name": "Python 3",
   "language": "python",
   "name": "python3"
  },
  "language_info": {
   "codemirror_mode": {
    "name": "ipython",
    "version": 3
   },
   "file_extension": ".py",
   "mimetype": "text/x-python",
   "name": "python",
   "nbconvert_exporter": "python",
   "pygments_lexer": "ipython3",
   "version": "3.7.4"
  }
 },
 "nbformat": 4,
 "nbformat_minor": 2
}
