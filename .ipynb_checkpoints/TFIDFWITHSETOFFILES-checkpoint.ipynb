{
 "cells": [
  {
   "cell_type": "code",
   "execution_count": 3,
   "metadata": {},
   "outputs": [
    {
     "name": "stdout",
     "output_type": "stream",
     "text": [
      "['Why do we need scheduling?\\nA typical process involves both I/O time and CPU time. In a uniprogramming system like MS-DOS, time spent waiting for I/O is wasted and CPU is free during this time. In multiprogramming systems, one process can use CPU while another is waiting for I/O. This is possible only with process scheduling.\\n\\nObjectives of Process Scheduling Algorithm:\\n\\nMax CPU utilization (Keep CPU as busy as possible)\\nFair allocation of CPU.\\nMax throughput (Number of processes that complete their execution per time unit)\\nMin turnaround time (Time taken by a process to finish execution)\\nMin waiting time (Time for which a process waits in ready queue)\\nMin response time (Time when a process produces first response)\\nDifferent Scheduling Algorithms:\\n\\nFirst Come First Serve (FCFS) : Simplest scheduling algorithm that schedules according to arrival times of processes.\\nShortest Job First (SJF): Process which have the shortest burst time are scheduled first.\\nShortest Remaining Time First (SRTF): It is preemptive mode of SJF algorithm in which jobs are scheduled according to the shortest remaining time.\\nRound Robin (RR) Scheduling: Each process is assigned a fixed time, in cyclic way.\\nPriority Based scheduling (Non Preemptive): In this scheduling, processes are scheduled according to their priorities, i.e., highest priority process is schedule first. If priorities of two processes match, then scheduling is according to the arrival time.\\nHighest Response Ratio Next (HRRN): In this scheduling, processes with highest response ratio is scheduled. This algorithm avoids starvation.\\nResponse Ratio = (Waiting Time + Burst time) / Burst time\\nMultilevel Queue Scheduling (MLQ): According to the priority of process, processes are placed in the different queues. Generally high priority process are placed in the top level queue. Only after completion of processes from top level queue, lower level queued processes are scheduled.\\nMulti level Feedback Queue (MLFQ) Scheduling: It allows the process to move in between queues. The idea is to separate processes according to the characteristics of their CPU bursts. If a process uses too much CPU time, it is moved to a lower-priority queue.', 'Ad sales boost Time Warner profit\\n\\nQuarterly profits at US media giant TimeWarner jumped 76% to $1.13bn (£600m) for the three months to December, from $639m year-earlier.\\n\\nThe firm, which is now one of the biggest investors in Google, benefited from sales of high-speed internet connections and higher advert sales. TimeWarner said fourth quarter sales rose 2% to $11.1bn from $10.9bn. Its profits were buoyed by one-off gains which offset a profit dip at Warner Bros, and less users for AOL.\\n\\nTime Warner said on Friday that it now owns 8% of search-engine Google. But its own internet business, AOL, had has mixed fortunes. It lost 464,000 subscribers in the fourth quarter profits were lower than in the preceding three quarters. However, the company said AOL\\'s underlying profit before exceptional items rose 8% on the back of stronger internet advertising revenues. It hopes to increase subscribers by offering the online service free to TimeWarner internet customers and will try to sign up AOL\\'s existing customers for high-speed broadband. TimeWarner also has to restate 2000 and 2003 results following a probe by the US Securities Exchange Commission (SEC), which is close to concluding.\\n\\nTime Warner\\'s fourth quarter profits were slightly better than analysts\\' expectations. But its film division saw profits slump 27% to $284m, helped by box-office flops Alexander and Catwoman, a sharp contrast to year-earlier, when the third and final film in the Lord of the Rings trilogy boosted results. For the full-year, TimeWarner posted a profit of $3.36bn, up 27% from its 2003 performance, while revenues grew 6.4% to $42.09bn. \"Our financial performance was strong, meeting or exceeding all of our full-year objectives and greatly enhancing our flexibility,\" chairman and chief executive Richard Parsons said. For 2005, TimeWarner is projecting operating earnings growth of around 5%, and also expects higher revenue and wider profit margins.\\n\\nTimeWarner is to restate its accounts as part of efforts to resolve an inquiry into AOL by US market regulators. It has already offered to pay $300m to settle charges, in a deal that is under review by the SEC. The company said it was unable to estimate the amount it needed to set aside for legal reserves, which it previously set at $500m. It intends to adjust the way it accounts for a deal with German music publisher Bertelsmann\\'s purchase of a stake in AOL Europe, which it had reported as advertising revenue. It will now book the sale of its stake in AOL Europe as a loss on the value of that stake.\\n']\n"
     ]
    }
   ],
   "source": [
    "import os,glob\n",
    "#folder_path = ''\n",
    "location = os.getcwd() # get present working directory location here\n",
    "#os.chdir(\"/Users/larissaba/Desktop/BootStrapDemo/10files\")\n",
    "path = os.getcwd()\n",
    "#print(location)\n",
    "import pandas as pd\n",
    "\n",
    "from sklearn.feature_extraction.text import TfidfTransformer\n",
    "from sklearn.feature_extraction.text import TfidfVectorizer\n",
    "from sklearn.feature_extraction.text import CountVectorizer\n",
    "\n",
    "#docs = pd.read_csv('001.txt', sep='delimiter', header=None,engine='python')\n",
    "#line.strip() for line in open('001.txt', 'r')\n",
    "\n",
    "#docs = [for filename in glob.glob(os.path.join(path, '*.txt')):\n",
    "                      #  with open(filename, 'r') as f:\n",
    "                        #text = f.read()]\n",
    "\n",
    "#docs= [line.strip() for filename in glob.glob(os.path.join(path, '*.txt')):\n",
    "       #with open(filename, 'r') as f:\n",
    "           #text = f.read()]\n",
    "docs = []\n",
    "        \n",
    "for filename in glob.glob(os.path.join(path, '*.txt')):\n",
    "    with open(filename, 'r') as f:\n",
    "        text = f.read()\n",
    "        #print (filename)\n",
    "        #print (len(text))\n",
    "        docs.append(text)\n",
    "    \n",
    "print(docs)\n",
    "\n",
    "    "
   ]
  },
  {
   "cell_type": "code",
   "execution_count": null,
   "metadata": {},
   "outputs": [],
   "source": []
  }
 ],
 "metadata": {
  "kernelspec": {
   "display_name": "Python 3",
   "language": "python",
   "name": "python3"
  },
  "language_info": {
   "codemirror_mode": {
    "name": "ipython",
    "version": 3
   },
   "file_extension": ".py",
   "mimetype": "text/x-python",
   "name": "python",
   "nbconvert_exporter": "python",
   "pygments_lexer": "ipython3",
   "version": "3.7.4"
  }
 },
 "nbformat": 4,
 "nbformat_minor": 2
}
