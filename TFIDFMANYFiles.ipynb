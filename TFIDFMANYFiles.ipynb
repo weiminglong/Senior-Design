{
 "cells": [
  {
   "cell_type": "code",
   "execution_count": 17,
   "metadata": {},
   "outputs": [],
   "source": [
    "import pandas as pd\n",
    "from sklearn.feature_extraction.text import TfidfVectorizer\n",
    "from nltk import word_tokenize\n",
    "from nltk.stem.porter import PorterStemmer\n",
    "\n",
    "def tokenize(text):\n",
    "    tokens = word_tokenize(text)\n",
    "    stems = []\n",
    "    for item in tokens: stems.append(PorterStemmer().stem(item))\n",
    "    return stems\n",
    "\n",
    "# your corpus\n",
    "text = [\"This is your first text book\", \"This is the second text for analysis\", \"This is another text to implement and see\"]\n",
    "# word tokenize and stem\n",
    "text = [\" \".join(tokenize(txt.lower())) for txt in text]\n",
    "vectorizer = TfidfVectorizer()\n",
    "matrix = vectorizer.fit_transform(text).todense()\n",
    "# transform the matrix to a pandas df\n",
    "matrix = pd.DataFrame(matrix, columns=vectorizer.get_feature_names())\n",
    "# sum over each document (axis=0)\n",
    "top_words = matrix.sum(axis=0).sort_values(ascending=False)\n",
    "\n"
   ]
  },
  {
   "cell_type": "code",
   "execution_count": null,
   "metadata": {},
   "outputs": [],
   "source": []
  }
 ],
 "metadata": {
  "kernelspec": {
   "display_name": "Python 3",
   "language": "python",
   "name": "python3"
  },
  "language_info": {
   "codemirror_mode": {
    "name": "ipython",
    "version": 3
   },
   "file_extension": ".py",
   "mimetype": "text/x-python",
   "name": "python",
   "nbconvert_exporter": "python",
   "pygments_lexer": "ipython3",
   "version": "3.7.4"
  }
 },
 "nbformat": 4,
 "nbformat_minor": 2
}
